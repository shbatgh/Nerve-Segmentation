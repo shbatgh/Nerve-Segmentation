{
 "cells": [
  {
   "cell_type": "code",
   "execution_count": 1,
   "metadata": {},
   "outputs": [],
   "source": [
    "import cv2\n",
    "import os\n",
    "import fastai\n",
    "from fastai.vision import *"
   ]
  },
  {
   "cell_type": "code",
   "execution_count": 7,
   "metadata": {},
   "outputs": [],
   "source": [
    "# crop all images in InferenceSuperRes/IN to 128 by 128\n",
    "# save them in InferenceSuperRes/IN_128\n",
    "\n",
    "import os\n",
    "import cv2\n",
    "import numpy as np\n",
    "from PIL import Image\n",
    "\n",
    "# path to the folder with images\n",
    "path = 'Mosaic-26-07-23/IN'\n",
    "\n",
    "# path to the folder where the cropped images will be saved\n",
    "path_to_save = 'InferenceSuperRes/IN'\n",
    "\n",
    "# create the folder if it does not exist\n",
    "if not os.path.exists(path_to_save):\n",
    "    os.makedirs(path_to_save)\n",
    "\n",
    "# get the list of all images in the folder\n",
    "images = os.listdir(path)\n",
    "\n",
    "# crop all images in the folder\n",
    "for i in range(50):\n",
    "    img = Image.open(path + '/' + images[i])\n",
    "    img = np.array(img)\n",
    "    img = img[0:128, 0:128]\n",
    "    img = Image.fromarray(img)\n",
    "    img.save(path_to_save + '/' + images[i])"
   ]
  },
  {
   "cell_type": "code",
   "execution_count": 2,
   "metadata": {},
   "outputs": [],
   "source": [
    "# Downscale the images\n",
    "dir = 'Denoising/IN'\n",
    "\n",
    "for filename in os.listdir(dir):\n",
    "    if os.path.isfile(os.path.join(dir, filename)):\n",
    "        #print(filename)\n",
    "        # Delete the image if the size is empty\n",
    "        if True:\n",
    "            img = cv2.imread(os.path.join(dir, filename))\n",
    "            if img is not None:\n",
    "                downscaled_img = cv2.resize(img, (0, 0), fx=1/2, fy=1/2, interpolation=cv2.INTER_LINEAR)            \n",
    "                cv2.imwrite(os.path.join('Denoising/IN', filename), downscaled_img)\n",
    "            else:\n",
    "                print(f\"Error: could not read image {filename}\")\n"
   ]
  },
  {
   "cell_type": "code",
   "execution_count": 4,
   "metadata": {},
   "outputs": [],
   "source": [
    "# Upscale the images\n",
    "dir = 'InferenceSuperRes/IN'\n",
    "\n",
    "for filename in os.listdir(dir):\n",
    "    if os.path.isfile(os.path.join(dir, filename)):\n",
    "        img = cv2.imread(os.path.join(dir, filename))\n",
    "        upscaled_img = cv2.resize(img, (0, 0), fx=2, fy=2, interpolation=cv2.INTER_LINEAR)\n",
    "        filtered_img = cv2.blur(upscaled_img, (3, 3))\n",
    "        cv2.imwrite(os.path.join('InferenceSuperRes/IN', filename), filtered_img)"
   ]
  }
 ],
 "metadata": {
  "kernelspec": {
   "display_name": "fast",
   "language": "python",
   "name": "python3"
  },
  "language_info": {
   "codemirror_mode": {
    "name": "ipython",
    "version": 3
   },
   "file_extension": ".py",
   "mimetype": "text/x-python",
   "name": "python",
   "nbconvert_exporter": "python",
   "pygments_lexer": "ipython3",
   "version": "3.7.12"
  },
  "orig_nbformat": 4
 },
 "nbformat": 4,
 "nbformat_minor": 2
}
