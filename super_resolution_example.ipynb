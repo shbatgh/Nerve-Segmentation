{
  "cells": [
    {
      "cell_type": "markdown",
      "metadata": {
        "id": "FgPNIA9ALbym"
      },
      "source": [
        "## Super resolution"
      ]
    },
    {
      "cell_type": "code",
      "execution_count": 1,
      "metadata": {
        "id": "SuRgetwwLbym"
      },
      "outputs": [],
      "source": [
        "import fastai\n",
        "from fastai.vision import *\n",
        "from fastai.vision.all import *\n",
        "import fastai.callback.all\n",
        "#from fastai.callbacks import *\n",
        "#from fastai.utils.mem import *\n",
        "#from test_utils import *\n",
        "\n",
        "from torchvision.models import vgg16_bn"
      ]
    },
    {
      "cell_type": "code",
      "execution_count": 2,
      "metadata": {
        "id": "-iYNO8vRLbyo"
      },
      "outputs": [],
      "source": [
        "from fastai import *"
      ]
    },
    {
      "cell_type": "code",
      "execution_count": 3,
      "metadata": {
        "id": "a1Nq7YNiLbyo",
        "outputId": "cb8f5cd3-258a-424c-8e74-c744b9876861"
      },
      "outputs": [
        {
          "name": "stdout",
          "output_type": "stream",
          "text": [
            "1.9.0+cu111\n"
          ]
        },
        {
          "data": {
            "text/plain": [
              "'NVIDIA GeForce RTX 4090'"
            ]
          },
          "execution_count": 3,
          "metadata": {},
          "output_type": "execute_result"
        }
      ],
      "source": [
        "# Check GPU\n",
        "import torch\n",
        "print(torch.__version__)\n",
        "torch.cuda.device(0)\n",
        "torch.cuda.device_count()\n",
        "torch.cuda.get_device_name(0)"
      ]
    },
    {
      "cell_type": "code",
      "execution_count": 4,
      "metadata": {
        "id": "OxxE0clyLbyo",
        "outputId": "60b8e019-d7ce-4427-d981-03bbdc6d9db6"
      },
      "outputs": [
        {
          "name": "stdout",
          "output_type": "stream",
          "text": [
            "2.7.12\n"
          ]
        }
      ],
      "source": [
        "#import fastai\n",
        "print(fastai.__version__)"
      ]
    },
    {
      "cell_type": "code",
      "execution_count": 5,
      "metadata": {
        "id": "MZFndETGLbyp"
      },
      "outputs": [],
      "source": [
        "path = untar_data(URLs.PETS)\n",
        "path_hr = path/'images'\n",
        "path_lr = path/'small-96'\n",
        "path_mr = path/'small-256'"
      ]
    },
    {
      "cell_type": "code",
      "execution_count": null,
      "metadata": {},
      "outputs": [],
      "source": [
        "il = ImageDataLoaders.from_folder(path_hr, valid_pct=0.2, bs=8, num_workers=0)\n",
        "#il.show_batch()\n",
        "#il = ImageImageList.from_folder(path_hr)\n"
      ]
    },
    {
      "cell_type": "code",
      "execution_count": 6,
      "metadata": {},
      "outputs": [
        {
          "name": "stdout",
          "output_type": "stream",
          "text": [
            "/home/turing/.fastai/data/oxford-iiit-pet/images\n"
          ]
        }
      ],
      "source": [
        "print(path_hr)"
      ]
    },
    {
      "cell_type": "code",
      "execution_count": 7,
      "metadata": {
        "id": "w_DwXfUWLbyp",
        "outputId": "d4b85e66-c1f4-472b-97b0-494dd973683e"
      },
      "outputs": [],
      "source": [
        "il = ImageDataLoaders.from_folder(path_hr, valid_pct=0.2, bs=8, num_workers=0)\n",
        "#il.show_batch()\n",
        "#il = ImageImageList.from_folder(path_hr)\n"
      ]
    },
    {
      "cell_type": "code",
      "execution_count": 8,
      "metadata": {
        "id": "DKV7IQErLbyq"
      },
      "outputs": [],
      "source": [
        "def resize_one(fn, i, path, size):\n",
        "    dest = path/fn.relative_to(path_hr)\n",
        "    dest.parent.mkdir(parents=True, exist_ok=True)\n",
        "    img = PIL.Image.open(fn)\n",
        "    targ_sz = resize_to(img, size, use_min=True)\n",
        "    img = img.resize(targ_sz, resample=PIL.Image.BILINEAR).convert('RGB')\n",
        "    img.save(dest, quality=60)"
      ]
    },
    {
      "cell_type": "code",
      "execution_count": 13,
      "metadata": {
        "id": "IXYYRZI_Lbyq",
        "outputId": "e2735032-7cd4-4ce0-f722-5a89dbcc4c50"
      },
      "outputs": [
        {
          "name": "stdout",
          "output_type": "stream",
          "text": [
            "resizing to 96 into /home/turing/.fastai/data/oxford-iiit-pet/small-96\n"
          ]
        },
        {
          "ename": "AttributeError",
          "evalue": "'functools.partial' object has no attribute '__module__'",
          "output_type": "error",
          "traceback": [
            "\u001b[0;31m---------------------------------------------------------------------------\u001b[0m",
            "\u001b[0;31mAttributeError\u001b[0m                            Traceback (most recent call last)",
            "\u001b[0;32m<ipython-input-13-45ef9af6deda>\u001b[0m in \u001b[0;36m<module>\u001b[0;34m\u001b[0m\n\u001b[1;32m      4\u001b[0m     \u001b[0;32mif\u001b[0m \u001b[0;32mnot\u001b[0m \u001b[0mp\u001b[0m\u001b[0;34m.\u001b[0m\u001b[0mexists\u001b[0m\u001b[0;34m(\u001b[0m\u001b[0;34m)\u001b[0m\u001b[0;34m:\u001b[0m\u001b[0;34m\u001b[0m\u001b[0;34m\u001b[0m\u001b[0m\n\u001b[1;32m      5\u001b[0m         \u001b[0mprint\u001b[0m\u001b[0;34m(\u001b[0m\u001b[0;34mf\"resizing to {size} into {p}\"\u001b[0m\u001b[0;34m)\u001b[0m\u001b[0;34m\u001b[0m\u001b[0;34m\u001b[0m\u001b[0m\n\u001b[0;32m----> 6\u001b[0;31m         \u001b[0mparallel\u001b[0m\u001b[0;34m(\u001b[0m\u001b[0mpartial\u001b[0m\u001b[0;34m(\u001b[0m\u001b[0mresize_one\u001b[0m\u001b[0;34m,\u001b[0m \u001b[0mpath\u001b[0m\u001b[0;34m=\u001b[0m\u001b[0mp\u001b[0m\u001b[0;34m,\u001b[0m \u001b[0msize\u001b[0m\u001b[0;34m=\u001b[0m\u001b[0msize\u001b[0m\u001b[0;34m)\u001b[0m\u001b[0;34m,\u001b[0m \u001b[0mil\u001b[0m\u001b[0;34m.\u001b[0m\u001b[0mitems\u001b[0m\u001b[0;34m)\u001b[0m\u001b[0;34m\u001b[0m\u001b[0;34m\u001b[0m\u001b[0m\n\u001b[0m",
            "\u001b[0;32m~/anaconda3/envs/fast2/lib/python3.7/site-packages/fastcore/parallel.py\u001b[0m in \u001b[0;36mparallel\u001b[0;34m(f, items, n_workers, total, progress, pause, method, threadpool, timeout, chunksize, *args, **kwargs)\u001b[0m\n\u001b[1;32m    111\u001b[0m         \u001b[0mpool\u001b[0m \u001b[0;34m=\u001b[0m \u001b[0mProcessPoolExecutor\u001b[0m\u001b[0;34m\u001b[0m\u001b[0;34m\u001b[0m\u001b[0m\n\u001b[1;32m    112\u001b[0m     \u001b[0;32mwith\u001b[0m \u001b[0mpool\u001b[0m\u001b[0;34m(\u001b[0m\u001b[0mn_workers\u001b[0m\u001b[0;34m,\u001b[0m \u001b[0mpause\u001b[0m\u001b[0;34m=\u001b[0m\u001b[0mpause\u001b[0m\u001b[0;34m,\u001b[0m \u001b[0;34m**\u001b[0m\u001b[0mkwpool\u001b[0m\u001b[0;34m)\u001b[0m \u001b[0;32mas\u001b[0m \u001b[0mex\u001b[0m\u001b[0;34m:\u001b[0m\u001b[0;34m\u001b[0m\u001b[0;34m\u001b[0m\u001b[0m\n\u001b[0;32m--> 113\u001b[0;31m         \u001b[0mr\u001b[0m \u001b[0;34m=\u001b[0m \u001b[0mex\u001b[0m\u001b[0;34m.\u001b[0m\u001b[0mmap\u001b[0m\u001b[0;34m(\u001b[0m\u001b[0mf\u001b[0m\u001b[0;34m,\u001b[0m\u001b[0mitems\u001b[0m\u001b[0;34m,\u001b[0m \u001b[0;34m*\u001b[0m\u001b[0margs\u001b[0m\u001b[0;34m,\u001b[0m \u001b[0mtimeout\u001b[0m\u001b[0;34m=\u001b[0m\u001b[0mtimeout\u001b[0m\u001b[0;34m,\u001b[0m \u001b[0mchunksize\u001b[0m\u001b[0;34m=\u001b[0m\u001b[0mchunksize\u001b[0m\u001b[0;34m,\u001b[0m \u001b[0;34m**\u001b[0m\u001b[0mkwargs\u001b[0m\u001b[0;34m)\u001b[0m\u001b[0;34m\u001b[0m\u001b[0;34m\u001b[0m\u001b[0m\n\u001b[0m\u001b[1;32m    114\u001b[0m         \u001b[0;32mif\u001b[0m \u001b[0mprogress\u001b[0m \u001b[0;32mand\u001b[0m \u001b[0mprogress_bar\u001b[0m\u001b[0;34m:\u001b[0m\u001b[0;34m\u001b[0m\u001b[0;34m\u001b[0m\u001b[0m\n\u001b[1;32m    115\u001b[0m             \u001b[0;32mif\u001b[0m \u001b[0mtotal\u001b[0m \u001b[0;32mis\u001b[0m \u001b[0;32mNone\u001b[0m\u001b[0;34m:\u001b[0m \u001b[0mtotal\u001b[0m \u001b[0;34m=\u001b[0m \u001b[0mlen\u001b[0m\u001b[0;34m(\u001b[0m\u001b[0mitems\u001b[0m\u001b[0;34m)\u001b[0m\u001b[0;34m\u001b[0m\u001b[0;34m\u001b[0m\u001b[0m\n",
            "\u001b[0;32m~/anaconda3/envs/fast2/lib/python3.7/site-packages/fastcore/parallel.py\u001b[0m in \u001b[0;36mmap\u001b[0;34m(self, f, items, timeout, chunksize, *args, **kwargs)\u001b[0m\n\u001b[1;32m     85\u001b[0m \u001b[0;34m\u001b[0m\u001b[0m\n\u001b[1;32m     86\u001b[0m     \u001b[0;32mdef\u001b[0m \u001b[0mmap\u001b[0m\u001b[0;34m(\u001b[0m\u001b[0mself\u001b[0m\u001b[0;34m,\u001b[0m \u001b[0mf\u001b[0m\u001b[0;34m,\u001b[0m \u001b[0mitems\u001b[0m\u001b[0;34m,\u001b[0m \u001b[0;34m*\u001b[0m\u001b[0margs\u001b[0m\u001b[0;34m,\u001b[0m \u001b[0mtimeout\u001b[0m\u001b[0;34m=\u001b[0m\u001b[0;32mNone\u001b[0m\u001b[0;34m,\u001b[0m \u001b[0mchunksize\u001b[0m\u001b[0;34m=\u001b[0m\u001b[0;36m1\u001b[0m\u001b[0;34m,\u001b[0m \u001b[0;34m**\u001b[0m\u001b[0mkwargs\u001b[0m\u001b[0;34m)\u001b[0m\u001b[0;34m:\u001b[0m\u001b[0;34m\u001b[0m\u001b[0;34m\u001b[0m\u001b[0m\n\u001b[0;32m---> 87\u001b[0;31m         \u001b[0;32mif\u001b[0m \u001b[0;32mnot\u001b[0m \u001b[0mparallelable\u001b[0m\u001b[0;34m(\u001b[0m\u001b[0;34m'max_workers'\u001b[0m\u001b[0;34m,\u001b[0m \u001b[0mself\u001b[0m\u001b[0;34m.\u001b[0m\u001b[0mmax_workers\u001b[0m\u001b[0;34m,\u001b[0m \u001b[0mf\u001b[0m\u001b[0;34m)\u001b[0m\u001b[0;34m:\u001b[0m \u001b[0mself\u001b[0m\u001b[0;34m.\u001b[0m\u001b[0mmax_workers\u001b[0m \u001b[0;34m=\u001b[0m \u001b[0;36m0\u001b[0m\u001b[0;34m\u001b[0m\u001b[0;34m\u001b[0m\u001b[0m\n\u001b[0m\u001b[1;32m     88\u001b[0m         \u001b[0mself\u001b[0m\u001b[0;34m.\u001b[0m\u001b[0mnot_parallel\u001b[0m \u001b[0;34m=\u001b[0m \u001b[0mself\u001b[0m\u001b[0;34m.\u001b[0m\u001b[0mmax_workers\u001b[0m\u001b[0;34m==\u001b[0m\u001b[0;36m0\u001b[0m\u001b[0;34m\u001b[0m\u001b[0;34m\u001b[0m\u001b[0m\n\u001b[1;32m     89\u001b[0m         \u001b[0;32mif\u001b[0m \u001b[0mself\u001b[0m\u001b[0;34m.\u001b[0m\u001b[0mnot_parallel\u001b[0m\u001b[0;34m:\u001b[0m \u001b[0mself\u001b[0m\u001b[0;34m.\u001b[0m\u001b[0mmax_workers\u001b[0m\u001b[0;34m=\u001b[0m\u001b[0;36m1\u001b[0m\u001b[0;34m\u001b[0m\u001b[0;34m\u001b[0m\u001b[0m\n",
            "\u001b[0;32m~/anaconda3/envs/fast2/lib/python3.7/site-packages/fastcore/parallel.py\u001b[0m in \u001b[0;36mparallelable\u001b[0;34m(param_name, num_workers, f)\u001b[0m\n\u001b[1;32m     48\u001b[0m \u001b[0;31m# %% ../nbs/03a_parallel.ipynb 9\u001b[0m\u001b[0;34m\u001b[0m\u001b[0;34m\u001b[0m\u001b[0;34m\u001b[0m\u001b[0m\n\u001b[1;32m     49\u001b[0m \u001b[0;32mdef\u001b[0m \u001b[0mparallelable\u001b[0m\u001b[0;34m(\u001b[0m\u001b[0mparam_name\u001b[0m\u001b[0;34m,\u001b[0m \u001b[0mnum_workers\u001b[0m\u001b[0;34m,\u001b[0m \u001b[0mf\u001b[0m\u001b[0;34m=\u001b[0m\u001b[0;32mNone\u001b[0m\u001b[0;34m)\u001b[0m\u001b[0;34m:\u001b[0m\u001b[0;34m\u001b[0m\u001b[0;34m\u001b[0m\u001b[0m\n\u001b[0;32m---> 50\u001b[0;31m     \u001b[0mf_in_main\u001b[0m \u001b[0;34m=\u001b[0m \u001b[0mf\u001b[0m \u001b[0;34m==\u001b[0m \u001b[0;32mNone\u001b[0m \u001b[0;32mor\u001b[0m \u001b[0msys\u001b[0m\u001b[0;34m.\u001b[0m\u001b[0mmodules\u001b[0m\u001b[0;34m[\u001b[0m\u001b[0mf\u001b[0m\u001b[0;34m.\u001b[0m\u001b[0m__module__\u001b[0m\u001b[0;34m]\u001b[0m\u001b[0;34m.\u001b[0m\u001b[0m__name__\u001b[0m \u001b[0;34m==\u001b[0m \u001b[0;34m\"__main__\"\u001b[0m\u001b[0;34m\u001b[0m\u001b[0;34m\u001b[0m\u001b[0m\n\u001b[0m\u001b[1;32m     51\u001b[0m     \u001b[0;32mif\u001b[0m \u001b[0msys\u001b[0m\u001b[0;34m.\u001b[0m\u001b[0mplatform\u001b[0m \u001b[0;34m==\u001b[0m \u001b[0;34m\"win32\"\u001b[0m \u001b[0;32mand\u001b[0m \u001b[0mIN_NOTEBOOK\u001b[0m \u001b[0;32mand\u001b[0m \u001b[0mnum_workers\u001b[0m \u001b[0;34m>\u001b[0m \u001b[0;36m0\u001b[0m \u001b[0;32mand\u001b[0m \u001b[0mf_in_main\u001b[0m\u001b[0;34m:\u001b[0m\u001b[0;34m\u001b[0m\u001b[0;34m\u001b[0m\u001b[0m\n\u001b[1;32m     52\u001b[0m         \u001b[0mprint\u001b[0m\u001b[0;34m(\u001b[0m\u001b[0;34m\"Due to IPython and Windows limitation, python multiprocessing isn't available now.\"\u001b[0m\u001b[0;34m)\u001b[0m\u001b[0;34m\u001b[0m\u001b[0;34m\u001b[0m\u001b[0m\n",
            "\u001b[0;31mAttributeError\u001b[0m: 'functools.partial' object has no attribute '__module__'"
          ]
        }
      ],
      "source": [
        "# create smaller image sets the first time this nb is run\n",
        "sets = [(path_lr, 96), (path_mr, 256)]\n",
        "for p,size in sets:\n",
        "    if not p.exists():\n",
        "        print(f\"resizing to {size} into {p}\")\n",
        "        parallel(partial(resize_one, path=p, size=size), il.items)"
      ]
    },
    {
      "cell_type": "code",
      "execution_count": 14,
      "metadata": {
        "id": "Mhw3bx2oLbys"
      },
      "outputs": [
        {
          "ename": "NameError",
          "evalue": "name 'ImageImageList' is not defined",
          "output_type": "error",
          "traceback": [
            "\u001b[0;31m---------------------------------------------------------------------------\u001b[0m",
            "\u001b[0;31mNameError\u001b[0m                                 Traceback (most recent call last)",
            "\u001b[0;32m<ipython-input-14-0b893a1fea9b>\u001b[0m in \u001b[0;36m<module>\u001b[0;34m\u001b[0m\n\u001b[1;32m      2\u001b[0m \u001b[0march\u001b[0m \u001b[0;34m=\u001b[0m \u001b[0mmodels\u001b[0m\u001b[0;34m.\u001b[0m\u001b[0mresnet34\u001b[0m\u001b[0;34m\u001b[0m\u001b[0;34m\u001b[0m\u001b[0m\n\u001b[1;32m      3\u001b[0m \u001b[0;34m\u001b[0m\u001b[0m\n\u001b[0;32m----> 4\u001b[0;31m \u001b[0msrc\u001b[0m \u001b[0;34m=\u001b[0m \u001b[0mImageImageList\u001b[0m\u001b[0;34m.\u001b[0m\u001b[0mfrom_folder\u001b[0m\u001b[0;34m(\u001b[0m\u001b[0mpath_lr\u001b[0m\u001b[0;34m)\u001b[0m\u001b[0;34m.\u001b[0m\u001b[0msplit_by_rand_pct\u001b[0m\u001b[0;34m(\u001b[0m\u001b[0;36m0.1\u001b[0m\u001b[0;34m,\u001b[0m \u001b[0mseed\u001b[0m\u001b[0;34m=\u001b[0m\u001b[0;36m42\u001b[0m\u001b[0;34m)\u001b[0m\u001b[0;34m\u001b[0m\u001b[0;34m\u001b[0m\u001b[0m\n\u001b[0m",
            "\u001b[0;31mNameError\u001b[0m: name 'ImageImageList' is not defined"
          ]
        }
      ],
      "source": [
        "bs,size=32,128\n",
        "arch = models.resnet34\n",
        "\n",
        "src = ImageImageList.from_folder(path_lr).split_by_rand_pct(0.1, seed=42)"
      ]
    },
    {
      "cell_type": "code",
      "execution_count": null,
      "metadata": {
        "id": "YuvE3S3VLbys"
      },
      "outputs": [],
      "source": [
        "def get_data(bs,size):\n",
        "    data = (src.label_from_func(lambda x: path_hr/x.name)\n",
        "           .transform(get_transforms(max_zoom=2.), size=size, tfm_y=True)\n",
        "           .databunch(bs=bs).normalize(imagenet_stats, do_y=True))\n",
        "\n",
        "    data.c = 3\n",
        "    return data"
      ]
    },
    {
      "cell_type": "code",
      "execution_count": null,
      "metadata": {
        "id": "aq1qiP1GLbyt"
      },
      "outputs": [],
      "source": [
        "data = get_data(bs,size)"
      ]
    },
    {
      "cell_type": "code",
      "execution_count": null,
      "metadata": {
        "id": "uBfkRWJXLbyt",
        "outputId": "afcc9b3d-bb69-45fe-a327-2d5781bf2744"
      },
      "outputs": [],
      "source": [
        "data.show_batch(ds_type=DatasetType.Valid, rows=2, figsize=(9,9))"
      ]
    },
    {
      "cell_type": "markdown",
      "metadata": {
        "id": "T1hbcRuyLbyt"
      },
      "source": [
        "## Feature loss"
      ]
    },
    {
      "cell_type": "code",
      "execution_count": null,
      "metadata": {
        "id": "SeXOR8dULbyt"
      },
      "outputs": [],
      "source": [
        "t = data.valid_ds[0][1].data\n",
        "t = torch.stack([t,t])"
      ]
    },
    {
      "cell_type": "code",
      "execution_count": null,
      "metadata": {
        "id": "Oyy39rpkLbyt"
      },
      "outputs": [],
      "source": [
        "def gram_matrix(x):\n",
        "    n,c,h,w = x.size()\n",
        "    x = x.view(n, c, -1)\n",
        "    return (x @ x.transpose(1,2))/(c*h*w)"
      ]
    },
    {
      "cell_type": "code",
      "execution_count": null,
      "metadata": {
        "id": "ew1gGjPXLbyu",
        "outputId": "e776061b-f3d1-43e3-fa00-d0790d70350d"
      },
      "outputs": [],
      "source": [
        "gram_matrix(t)"
      ]
    },
    {
      "cell_type": "code",
      "execution_count": null,
      "metadata": {
        "id": "N_Gg13NrLbyu"
      },
      "outputs": [],
      "source": [
        "base_loss = F.l1_loss"
      ]
    },
    {
      "cell_type": "code",
      "execution_count": null,
      "metadata": {
        "id": "L6qY71WOLbyu"
      },
      "outputs": [],
      "source": [
        "vgg_m = vgg16_bn(True).features.cuda().eval()\n",
        "requires_grad(vgg_m, False)"
      ]
    },
    {
      "cell_type": "code",
      "execution_count": null,
      "metadata": {
        "id": "uaw9tE7-Lbyu",
        "outputId": "e812f69c-0e9b-47e6-882c-61118e24c82b"
      },
      "outputs": [],
      "source": [
        "blocks = [i-1 for i,o in enumerate(children(vgg_m)) if isinstance(o,nn.MaxPool2d)]\n",
        "blocks, [vgg_m[i] for i in blocks]"
      ]
    },
    {
      "cell_type": "code",
      "execution_count": null,
      "metadata": {
        "id": "RY_3uB8pLbyu"
      },
      "outputs": [],
      "source": [
        "class FeatureLoss(nn.Module):\n",
        "    def __init__(self, m_feat, layer_ids, layer_wgts):\n",
        "        super().__init__()\n",
        "        self.m_feat = m_feat\n",
        "        self.loss_features = [self.m_feat[i] for i in layer_ids]\n",
        "        self.hooks = hook_outputs(self.loss_features, detach=False)\n",
        "        self.wgts = layer_wgts\n",
        "        self.metric_names = ['pixel',] + [f'feat_{i}' for i in range(len(layer_ids))\n",
        "              ] + [f'gram_{i}' for i in range(len(layer_ids))]\n",
        "\n",
        "    def make_features(self, x, clone=False):\n",
        "        self.m_feat(x)\n",
        "        return [(o.clone() if clone else o) for o in self.hooks.stored]\n",
        "\n",
        "    def forward(self, input, target):\n",
        "        out_feat = self.make_features(target, clone=True)\n",
        "        in_feat = self.make_features(input)\n",
        "        self.feat_losses = [base_loss(input,target)]\n",
        "        self.feat_losses += [base_loss(f_in, f_out)*w\n",
        "                             for f_in, f_out, w in zip(in_feat, out_feat, self.wgts)]\n",
        "        self.feat_losses += [base_loss(gram_matrix(f_in), gram_matrix(f_out))*w**2 * 5e3\n",
        "                             for f_in, f_out, w in zip(in_feat, out_feat, self.wgts)]\n",
        "        self.metrics = dict(zip(self.metric_names, self.feat_losses))\n",
        "        return sum(self.feat_losses)\n",
        "\n",
        "    def __del__(self): self.hooks.remove()"
      ]
    },
    {
      "cell_type": "code",
      "execution_count": null,
      "metadata": {
        "id": "vINviDwwLbyu"
      },
      "outputs": [],
      "source": [
        "feat_loss = FeatureLoss(vgg_m, blocks[2:5], [5,15,2])"
      ]
    },
    {
      "cell_type": "markdown",
      "metadata": {
        "id": "XyUdaAPULbyu"
      },
      "source": [
        "## Train"
      ]
    },
    {
      "cell_type": "code",
      "execution_count": null,
      "metadata": {
        "id": "dt7Z3T-wLbyv"
      },
      "outputs": [],
      "source": [
        "wd = 1e-3\n",
        "learn = unet_learner(data, arch, wd=wd, loss_func=feat_loss, callback_fns=LossMetrics,\n",
        "                     blur=True, norm_type=NormType.Weight)\n",
        "gc.collect();"
      ]
    },
    {
      "cell_type": "code",
      "execution_count": null,
      "metadata": {
        "id": "Ig3sGB6FLbyv",
        "outputId": "91d1b3d4-471a-4014-d60c-3a98e6c8d278"
      },
      "outputs": [],
      "source": [
        "learn.lr_find()\n",
        "learn.recorder.plot()"
      ]
    },
    {
      "cell_type": "code",
      "execution_count": null,
      "metadata": {
        "id": "Crqqr5wiLbyv"
      },
      "outputs": [],
      "source": [
        "lr = 1e-3"
      ]
    },
    {
      "cell_type": "code",
      "execution_count": null,
      "metadata": {
        "id": "i35dxwgILbyv"
      },
      "outputs": [],
      "source": [
        "def do_fit(save_name, lrs=slice(lr), pct_start=0.9):\n",
        "    learn.fit_one_cycle(10, lrs, pct_start=pct_start)\n",
        "    learn.save(save_name)\n",
        "    learn.show_results(rows=1, imgsize=5)"
      ]
    },
    {
      "cell_type": "code",
      "execution_count": null,
      "metadata": {
        "id": "apGdfCFILbyv",
        "outputId": "1fc32a7e-efaa-4cb2-d158-215b018099c7"
      },
      "outputs": [],
      "source": [
        "do_fit('1a', slice(lr*10))"
      ]
    },
    {
      "cell_type": "code",
      "execution_count": null,
      "metadata": {
        "id": "Q1NrzPHFLbyv"
      },
      "outputs": [],
      "source": [
        "learn.unfreeze()"
      ]
    },
    {
      "cell_type": "code",
      "execution_count": null,
      "metadata": {
        "id": "i30DXNDcLbyv",
        "outputId": "8a4e6123-6033-4c04-945a-94e4039cea7a"
      },
      "outputs": [],
      "source": [
        "do_fit('1b', slice(1e-5,lr))"
      ]
    },
    {
      "cell_type": "code",
      "execution_count": null,
      "metadata": {
        "id": "84rYbtiXLbyv"
      },
      "outputs": [],
      "source": [
        "data = get_data(12,size*2)"
      ]
    },
    {
      "cell_type": "code",
      "execution_count": null,
      "metadata": {
        "id": "L1QKCTy8Lbyv",
        "outputId": "948403cb-ecd3-44c7-fc90-fff82d7b9e0e"
      },
      "outputs": [],
      "source": [
        "learn.data = data\n",
        "learn.freeze()\n",
        "gc.collect()"
      ]
    },
    {
      "cell_type": "code",
      "execution_count": null,
      "metadata": {
        "id": "AVOqh2TYLbyw"
      },
      "outputs": [],
      "source": [
        "learn.load('1b');"
      ]
    },
    {
      "cell_type": "code",
      "execution_count": null,
      "metadata": {
        "id": "wyLIEPBKLbyw",
        "outputId": "17032673-8bb6-4c92-e623-cdfb02e893f2"
      },
      "outputs": [],
      "source": [
        "do_fit('2a')"
      ]
    },
    {
      "cell_type": "code",
      "execution_count": null,
      "metadata": {
        "id": "_YIHAXTeLbyw"
      },
      "outputs": [],
      "source": [
        "learn.unfreeze()"
      ]
    },
    {
      "cell_type": "code",
      "execution_count": null,
      "metadata": {
        "id": "y_ELnQX7Lbyw",
        "outputId": "baac045c-9e59-47c1-e7f4-e6ac85b2f6bc"
      },
      "outputs": [],
      "source": [
        "do_fit('2b', slice(1e-6,1e-4), pct_start=0.3)"
      ]
    },
    {
      "cell_type": "markdown",
      "metadata": {
        "id": "urK7joG4Lbyw"
      },
      "source": [
        "## Test"
      ]
    },
    {
      "cell_type": "code",
      "execution_count": null,
      "metadata": {
        "id": "Ec1aDdzaLbyw"
      },
      "outputs": [],
      "source": [
        "learn = None\n",
        "gc.collect();"
      ]
    },
    {
      "cell_type": "code",
      "execution_count": null,
      "metadata": {
        "id": "ft--TNI9Lbyw",
        "outputId": "c3c97c9d-6fd3-4d5f-b22e-5466bb67797f"
      },
      "outputs": [],
      "source": [
        "256/320*1024"
      ]
    },
    {
      "cell_type": "code",
      "execution_count": null,
      "metadata": {
        "id": "nn7qDngwLbyx",
        "outputId": "c529229c-987c-4ddc-c484-5ab8fab97809"
      },
      "outputs": [],
      "source": [
        "256/320*1600"
      ]
    },
    {
      "cell_type": "code",
      "execution_count": null,
      "metadata": {
        "id": "MJ9uR3_3Lbyx",
        "outputId": "98f2a784-f657-4db9-dbcb-dfb24be9f885"
      },
      "outputs": [],
      "source": [
        "free = gpu_mem_get_free_no_cache()\n",
        "# the max size of the test image depends on the available GPU RAM\n",
        "if free > 8000: size=(1280, 1600) # >  8GB RAM\n",
        "else:           size=( 820, 1024) # <= 8GB RAM\n",
        "print(f\"using size={size}, have {free}MB of GPU RAM free\")"
      ]
    },
    {
      "cell_type": "code",
      "execution_count": null,
      "metadata": {
        "id": "ys_uCcKbLbyx"
      },
      "outputs": [],
      "source": [
        "learn = unet_learner(data, arch, loss_func=F.l1_loss, blur=True, norm_type=NormType.Weight)"
      ]
    },
    {
      "cell_type": "code",
      "execution_count": null,
      "metadata": {
        "id": "9HSf3oWxLbyx"
      },
      "outputs": [],
      "source": [
        "data_mr = (ImageImageList.from_folder(path_mr).split_by_rand_pct(0.1, seed=42)\n",
        "          .label_from_func(lambda x: path_hr/x.name)\n",
        "          .transform(get_transforms(), size=size, tfm_y=True)\n",
        "          .databunch(bs=1).normalize(imagenet_stats, do_y=True))\n",
        "data_mr.c = 3"
      ]
    },
    {
      "cell_type": "code",
      "execution_count": null,
      "metadata": {
        "id": "S2VJkBjHLbyy"
      },
      "outputs": [],
      "source": [
        "learn.load('2b');"
      ]
    },
    {
      "cell_type": "code",
      "execution_count": null,
      "metadata": {
        "id": "qL6hqdB-Lbyy"
      },
      "outputs": [],
      "source": [
        "learn.data = data_mr"
      ]
    },
    {
      "cell_type": "code",
      "execution_count": null,
      "metadata": {
        "id": "B7yhJJ4nLbyy",
        "outputId": "73c130a2-6232-4f1c-bc18-5ae2606b9d2b"
      },
      "outputs": [],
      "source": [
        "fn = data_mr.valid_ds.x.items[0]; fn"
      ]
    },
    {
      "cell_type": "code",
      "execution_count": null,
      "metadata": {
        "id": "LCBOC_4VLbyy",
        "outputId": "aedecd08-f14e-4d84-8251-89cf6e3ba0a5"
      },
      "outputs": [],
      "source": [
        "img = open_image(fn); img.shape"
      ]
    },
    {
      "cell_type": "code",
      "execution_count": null,
      "metadata": {
        "id": "38hv9ZJWLbyy"
      },
      "outputs": [],
      "source": [
        "p,img_hr,b = learn.predict(img)"
      ]
    },
    {
      "cell_type": "code",
      "execution_count": null,
      "metadata": {
        "id": "pT9yMVDQLbyy",
        "outputId": "002396b6-65cc-4a89-bb71-bd114cf304db"
      },
      "outputs": [],
      "source": [
        "show_image(img, figsize=(18,15), interpolation='nearest');"
      ]
    },
    {
      "cell_type": "code",
      "execution_count": null,
      "metadata": {
        "id": "o_ryS8IULbyy",
        "outputId": "da6bb4c4-e5b1-4a0c-e0b9-58104380bd47"
      },
      "outputs": [],
      "source": [
        "Image(img_hr).show(figsize=(18,15))"
      ]
    }
  ],
  "metadata": {
    "colab": {
      "provenance": []
    },
    "kernelspec": {
      "display_name": "Python 3",
      "language": "python",
      "name": "python3"
    },
    "language_info": {
      "codemirror_mode": {
        "name": "ipython",
        "version": 3
      },
      "file_extension": ".py",
      "mimetype": "text/x-python",
      "name": "python",
      "nbconvert_exporter": "python",
      "pygments_lexer": "ipython3",
      "version": "3.7.9"
    }
  },
  "nbformat": 4,
  "nbformat_minor": 0
}
